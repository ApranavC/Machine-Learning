{
  "nbformat": 4,
  "nbformat_minor": 0,
  "metadata": {
    "colab": {
      "provenance": [],
      "authorship_tag": "ABX9TyMVXDys3bTTNkh+3OKCrF6e",
      "include_colab_link": true
    },
    "kernelspec": {
      "name": "python3",
      "display_name": "Python 3"
    },
    "language_info": {
      "name": "python"
    }
  },
  "cells": [
    {
      "cell_type": "markdown",
      "metadata": {
        "id": "view-in-github",
        "colab_type": "text"
      },
      "source": [
        "<a href=\"https://colab.research.google.com/github/ApranavC/Machine-Learning/blob/main/Mine_vs_rock_.ipynb\" target=\"_parent\"><img src=\"https://colab.research.google.com/assets/colab-badge.svg\" alt=\"Open In Colab\"/></a>"
      ]
    },
    {
      "cell_type": "markdown",
      "source": [
        "Importing Dependancies"
      ],
      "metadata": {
        "id": "BkCLdqSJc-KA"
      }
    },
    {
      "cell_type": "code",
      "execution_count": 2,
      "metadata": {
        "id": "c_6hw9L6cO2f"
      },
      "outputs": [],
      "source": [
        "import numpy as np;\n",
        "import pandas as pd;\n",
        "from sklearn.model_selection import train_test_split;\n",
        "from sklearn.linear_model import LogisticRegression;\n",
        "from sklearn.metrics import accuracy_score;"
      ]
    },
    {
      "cell_type": "markdown",
      "source": [
        "Data Processing"
      ],
      "metadata": {
        "id": "LycbV5vPeUEJ"
      }
    },
    {
      "cell_type": "code",
      "source": [
        "# uploading the data\n",
        "sonar_data = pd.read_csv('/content/Copy of sonar data.csv', header = None);\n"
      ],
      "metadata": {
        "id": "-Z_OShlnd9Eu"
      },
      "execution_count": 5,
      "outputs": []
    },
    {
      "cell_type": "markdown",
      "source": [
        "Features and labels"
      ],
      "metadata": {
        "id": "1BCODapghP-4"
      }
    },
    {
      "cell_type": "code",
      "source": [
        "X = sonar_data.drop(columns = 60, axis = 1);\n",
        "Y = sonar_data[60];"
      ],
      "metadata": {
        "id": "6ABhrIj5hAMs"
      },
      "execution_count": 7,
      "outputs": []
    },
    {
      "cell_type": "markdown",
      "source": [
        "Splitting into train and test"
      ],
      "metadata": {
        "id": "L9bNZfGIhVB3"
      }
    },
    {
      "cell_type": "code",
      "source": [
        "x_train, x_test, y_train, y_test = train_test_split(X, Y, test_size = 0.1, stratify = Y , random_state =1)"
      ],
      "metadata": {
        "id": "8uz2BGbMhMy3"
      },
      "execution_count": 8,
      "outputs": []
    },
    {
      "cell_type": "markdown",
      "source": [
        "Training the model\n"
      ],
      "metadata": {
        "id": "gXdxtpSvievs"
      }
    },
    {
      "cell_type": "code",
      "source": [
        "model = LogisticRegression();\n",
        "model.fit(x_train, y_train);"
      ],
      "metadata": {
        "id": "nBnI_0ywiiBz"
      },
      "execution_count": 9,
      "outputs": []
    },
    {
      "cell_type": "markdown",
      "source": [
        "Model Evaluation"
      ],
      "metadata": {
        "id": "2mnXM8RPjR8V"
      }
    },
    {
      "cell_type": "code",
      "source": [
        "X_train_prediction = model.predict(x_train);\n",
        "training_accuracy_score = accuracy_score(X_train_prediction , y_train);\n",
        "print('Accuracy of training data :', training_accuracy_score);"
      ],
      "metadata": {
        "colab": {
          "base_uri": "https://localhost:8080/"
        },
        "id": "1IDGUYrdjF_h",
        "outputId": "e8e670fc-6560-43bc-d68a-aa474ff61848"
      },
      "execution_count": 12,
      "outputs": [
        {
          "output_type": "stream",
          "name": "stdout",
          "text": [
            "Accuracy of training data : 0.8342245989304813\n"
          ]
        }
      ]
    },
    {
      "cell_type": "code",
      "source": [
        "X_test_prediction = model.predict(x_test);\n",
        "testing_accuracy_score = accuracy_score(X_test_prediction , y_test);\n",
        "print('Accuracy of testing data :', testing_accuracy_score);"
      ],
      "metadata": {
        "colab": {
          "base_uri": "https://localhost:8080/"
        },
        "id": "yoV9lK6bkRLs",
        "outputId": "969b2940-32bc-431e-c1db-8ba977c47a04"
      },
      "execution_count": 14,
      "outputs": [
        {
          "output_type": "stream",
          "name": "stdout",
          "text": [
            "Accuracy of testing data : 0.7619047619047619\n"
          ]
        }
      ]
    },
    {
      "cell_type": "markdown",
      "source": [
        "Designing the system"
      ],
      "metadata": {
        "id": "wMFt9OhOks3Y"
      }
    },
    {
      "cell_type": "code",
      "source": [
        "arr = (0.0200,0.0371,0.0428,0.0207,0.0954,0.0986,0.1539,0.1601,0.3109,0.2111,0.1609,0.1582,0.2238,0.0645,0.0660,0.2273,0.3100,0.2999,0.5078,0.4797,0.5783,0.5071,0.4328,0.5550,0.6711,0.6415,0.7104,0.8080,0.6791,0.3857,0.1307,0.2604,0.5121,0.7547,0.8537,0.8507,0.6692,0.6097,0.4943,0.2744,0.0510,0.2834,0.2825,0.4256,0.2641,0.1386,0.1051,0.1343,0.0383,0.0324,0.0232,0.0027,0.0065,0.0159,0.0072,0.0167,0.0180,0.0084,0.0090,0.0032);\n",
        "arr = np.asarray(arr);\n",
        "arr = arr.reshape(1,-1);\n",
        "prediction = model.predict(arr);\n",
        "if (prediction[0] == 'R'):\n",
        "  print('Calm Down! This is Rock');\n",
        "else :\n",
        "  print('ALert!!!!!!! Mine Found');"
      ],
      "metadata": {
        "colab": {
          "base_uri": "https://localhost:8080/"
        },
        "id": "nzOyeOR3krU5",
        "outputId": "edbb3cfd-2dab-4c50-fc4d-097671d6ed60"
      },
      "execution_count": 20,
      "outputs": [
        {
          "output_type": "stream",
          "name": "stdout",
          "text": [
            "Calm Down! This is Rock\n"
          ]
        }
      ]
    },
    {
      "cell_type": "code",
      "source": [],
      "metadata": {
        "id": "XGfJcfKbm2Ls"
      },
      "execution_count": null,
      "outputs": []
    }
  ]
}